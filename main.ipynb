{
 "cells": [
  {
   "cell_type": "code",
   "execution_count": null,
   "metadata": {},
   "outputs": [],
   "source": []
  },
  {
   "cell_type": "markdown",
   "metadata": {},
   "source": [
    "CRIANDO MODELO DE ML QUE IRÁ LER AS INFORMAÇÕES DO CLIENTE E DIZER AUTOMATICAMENTE SE O SCORE DE CRÉDITO DELE É RUIM, OK OU BOM."
   ]
  },
  {
   "cell_type": "code",
   "execution_count": null,
   "metadata": {},
   "outputs": [],
   "source": [
    "#IMPORTANDO BASE DE DADOS FICTICIA \n",
    "import pandas as pd\n",
    "\n",
    "tabela = \n"
   ]
  }
 ],
 "metadata": {
  "language_info": {
   "name": "python"
  }
 },
 "nbformat": 4,
 "nbformat_minor": 2
}
